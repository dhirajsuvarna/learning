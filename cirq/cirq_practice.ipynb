{
 "cells": [
  {
   "cell_type": "code",
   "execution_count": 2,
   "metadata": {},
   "outputs": [],
   "source": [
    "import cirq\n",
    "import cirq_google"
   ]
  },
  {
   "cell_type": "code",
   "execution_count": 3,
   "metadata": {},
   "outputs": [
    {
     "name": "stdout",
     "output_type": "stream",
     "text": [
      "                                             (0, 5)────(0, 6)\n",
      "                                             │         │\n",
      "                                             │         │\n",
      "                                    (1, 4)───(1, 5)────(1, 6)────(1, 7)\n",
      "                                    │        │         │         │\n",
      "                                    │        │         │         │\n",
      "                           (2, 3)───(2, 4)───(2, 5)────(2, 6)────(2, 7)───(2, 8)\n",
      "                           │        │        │         │         │        │\n",
      "                           │        │        │         │         │        │\n",
      "                  (3, 2)───(3, 3)───(3, 4)───(3, 5)────(3, 6)────(3, 7)───(3, 8)───(3, 9)\n",
      "                  │        │        │        │         │         │        │        │\n",
      "                  │        │        │        │         │         │        │        │\n",
      "         (4, 1)───(4, 2)───(4, 3)───(4, 4)───(4, 5)────(4, 6)────(4, 7)───(4, 8)───(4, 9)───(4, 10)\n",
      "         │        │        │        │        │         │         │        │        │        │\n",
      "         │        │        │        │        │         │         │        │        │        │\n",
      "(5, 0)───(5, 1)───(5, 2)───(5, 3)───(5, 4)───(5, 5)────(5, 6)────(5, 7)───(5, 8)───(5, 9)───(5, 10)───(5, 11)\n",
      "         │        │        │        │        │         │         │        │        │        │\n",
      "         │        │        │        │        │         │         │        │        │        │\n",
      "         (6, 1)───(6, 2)───(6, 3)───(6, 4)───(6, 5)────(6, 6)────(6, 7)───(6, 8)───(6, 9)───(6, 10)\n",
      "                  │        │        │        │         │         │        │        │\n",
      "                  │        │        │        │         │         │        │        │\n",
      "                  (7, 2)───(7, 3)───(7, 4)───(7, 5)────(7, 6)────(7, 7)───(7, 8)───(7, 9)\n",
      "                           │        │        │         │         │        │\n",
      "                           │        │        │         │         │        │\n",
      "                           (8, 3)───(8, 4)───(8, 5)────(8, 6)────(8, 7)───(8, 8)\n",
      "                                    │        │         │         │\n",
      "                                    │        │         │         │\n",
      "                                    (9, 4)───(9, 5)────(9, 6)────(9, 7)\n",
      "                                             │         │\n",
      "                                             │         │\n",
      "                                             (10, 5)───(10, 6)\n"
     ]
    }
   ],
   "source": [
    "print(cirq_google.Bristlecone)"
   ]
  },
  {
   "cell_type": "code",
   "execution_count": 4,
   "metadata": {},
   "outputs": [
    {
     "name": "stdout",
     "output_type": "stream",
     "text": [
      "0.11.0\n"
     ]
    }
   ],
   "source": [
    "print(cirq.__version__)"
   ]
  },
  {
   "cell_type": "code",
   "execution_count": 6,
   "metadata": {},
   "outputs": [
    {
     "name": "stdout",
     "output_type": "stream",
     "text": [
      "a: ───H───────────\n",
      "\n",
      "b: ───H───@───H───\n",
      "          │\n",
      "c: ───────X───────\n"
     ]
    }
   ],
   "source": [
    "#define three qubits \n",
    "a = cirq.NamedQubit(\"a\")\n",
    "b = cirq.NamedQubit(\"b\")\n",
    "c = cirq.NamedQubit(\"c\")\n",
    "\n",
    "#define list of operations \n",
    "ops = [cirq.H(a), cirq.H(b), cirq.CNOT(b, c), cirq.H(b)]\n",
    "\n",
    "#create circuit from list of operations \n",
    "circuit = cirq.Circuit(ops)\n",
    "print(circuit)"
   ]
  },
  {
   "cell_type": "markdown",
   "metadata": {},
   "source": [
    "#### Exercise 1"
   ]
  },
  {
   "cell_type": "code",
   "execution_count": 9,
   "metadata": {},
   "outputs": [
    {
     "name": "stdout",
     "output_type": "stream",
     "text": [
      "          ┌──┐\n",
      "0: ───H────@─────────\n",
      "           │\n",
      "1: ───H────┼@────H───\n",
      "           ││\n",
      "2: ────────┼X────────\n",
      "           │\n",
      "3: ────────X─────────\n",
      "          └──┘\n"
     ]
    }
   ],
   "source": [
    "#Create qubits \n",
    "q = cirq.LineQubit.range(4)\n",
    "\n",
    "m1 = cirq.Moment([cirq.H(q[0]), cirq.H(q[1])])\n",
    "m2 = cirq.Moment([cirq.CNOT(q[0], q[3]), cirq.CNOT(q[1], q[2])])\n",
    "m3 = cirq.Moment([cirq.H(q[1])])\n",
    "\n",
    "ops = [m1, m2, m3]\n",
    "\n",
    "circuit = cirq.Circuit(ops)\n",
    "\n",
    "print(circuit)"
   ]
  },
  {
   "cell_type": "code",
   "execution_count": 11,
   "metadata": {},
   "outputs": [
    {
     "name": "stdout",
     "output_type": "stream",
     "text": [
      "Moment 0: \n",
      "  ╷ 0 1\n",
      "╶─┼─────\n",
      "0 │ H H\n",
      "  │\n",
      "Moment 1: \n",
      "  ╷ 0 1 2 3\n",
      "╶─┼─────────\n",
      "0 │ @─@─X─X\n",
      "  │\n",
      "Moment 2: \n",
      "  ╷ 1\n",
      "╶─┼───\n",
      "0 │ H\n",
      "  │\n"
     ]
    }
   ],
   "source": [
    "#print moments in circuit \n",
    "for i, moment in enumerate(circuit):\n",
    "    print(f\"Moment {i}: \\n{moment}\")"
   ]
  },
  {
   "cell_type": "markdown",
   "metadata": {},
   "source": [
    "#### Exercise 2: Swap two qubits\n",
    "\n",
    "`|a> |b> -> |b> |a>`"
   ]
  },
  {
   "cell_type": "code",
   "execution_count": 12,
   "metadata": {},
   "outputs": [
    {
     "name": "stdout",
     "output_type": "stream",
     "text": [
      "a: ───@───X───@───\n",
      "      │   │   │\n",
      "b: ───X───@───X───\n"
     ]
    }
   ],
   "source": [
    "#create qubits\n",
    "\n",
    "a = cirq.NamedQubit('a')\n",
    "b = cirq.NamedQubit('b')\n",
    "\n",
    "#Swapping the state of two qubits \n",
    "def xor_swap(a, b):\n",
    "    yield cirq.CNOT(a, b)\n",
    "    yield cirq.CNOT(b, a)\n",
    "    yield cirq.CNOT(a, b)\n",
    "    \n",
    "swapCircuit = cirq.Circuit(xor_swap(a, b))\n",
    "\n",
    "print(swapCircuit)"
   ]
  },
  {
   "cell_type": "markdown",
   "metadata": {},
   "source": [
    "#### Exercise 4: Create a circuit to left rotate 5 qubits\n",
    "\n",
    "```\n",
    "0 --> 4 \n",
    "4 --> 3\n",
    "3 --> 2\n",
    "2 --> 1\n",
    "1 --> 0\n",
    "```"
   ]
  },
  {
   "cell_type": "code",
   "execution_count": 15,
   "metadata": {},
   "outputs": [
    {
     "name": "stdout",
     "output_type": "stream",
     "text": [
      "0: ───@───X───@───────────────────────────────────────\n",
      "      │   │   │\n",
      "1: ───X───@───X───@───X───@───────────────────────────\n",
      "                  │   │   │\n",
      "2: ───────────────X───@───X───@───X───@───────────────\n",
      "                              │   │   │\n",
      "3: ───────────────────────────X───@───X───@───X───@───\n",
      "                                          │   │   │\n",
      "4: ───────────────────────────────────────X───@───X───\n"
     ]
    }
   ],
   "source": [
    "#Create 5 qubits \n",
    "q = cirq.LineQubit.range(5)\n",
    "\n",
    "def left_rotate(iQubits):\n",
    "    for i in range(len(iQubits) - 1):\n",
    "        yield xor_swap(iQubits[i], iQubits[i+1])\n",
    "\n",
    "circuit = cirq.Circuit(left_rotate(q))\n",
    "print(circuit)"
   ]
  },
  {
   "cell_type": "markdown",
   "metadata": {},
   "source": [
    "#### Exercise: Insertion stratergy \n",
    "\n",
    "Using least number of appends draw this circuit - \n",
    "```\n",
    "a: ───@───H───────────H───H───\n",
    "      │\n",
    "b: ───@───────H───@───H───────\n",
    "                  │\n",
    "c: ───H───────────@───────────\n",
    "```"
   ]
  },
  {
   "cell_type": "code",
   "execution_count": 18,
   "metadata": {},
   "outputs": [
    {
     "name": "stdout",
     "output_type": "stream",
     "text": [
      "Circuit:\n",
      "\n",
      "a: ───@───H───\n",
      "      │\n",
      "b: ───@───────\n",
      "\n",
      "c: ───H───────\n"
     ]
    }
   ],
   "source": [
    "# Define three qubits.\n",
    "a = cirq.NamedQubit('a')\n",
    "b = cirq.NamedQubit('b')\n",
    "c = cirq.NamedQubit('c')\n",
    "\n",
    "# Get an empty circuit.\n",
    "circuit = cirq.Circuit()\n",
    "\n",
    "# Append these gates using cirq.InsertStrategy.EARLIEST (the default strategy).\n",
    "circuit.append([cirq.CZ(a, b), cirq.H(c), cirq.H(a)])\n",
    "\n",
    "# Append these gates using cirq.InsertStrategy.NEW_THEN_INLINE.\n",
    "circuit.append(\n",
    "    [cirq.H(b), cirq.CZ(b, c), cirq.H(b), cirq.H(a), cirq.H(a)],\n",
    "    strategy=cirq.InsertStrategy.NEW_THEN_INLINE\n",
    ")\n",
    "\n",
    "# circuit.append(\n",
    "#     [cirq.H(b), cirq.CZ(b, c), cirq.H(b), cirq.H(a), cirq.H(a)],\n",
    "#     strategy=cirq.InsertStrategy.NEW_THEN_INLINE\n",
    "# )\n",
    "\n",
    "# Display the circuit.\n",
    "print(\"Circuit:\\n\")\n",
    "print(circuit)"
   ]
  },
  {
   "cell_type": "code",
   "execution_count": null,
   "metadata": {},
   "outputs": [],
   "source": []
  }
 ],
 "metadata": {
  "kernelspec": {
   "display_name": "Python [conda env:cirqenv]",
   "language": "python",
   "name": "conda-env-cirqenv-py"
  },
  "language_info": {
   "codemirror_mode": {
    "name": "ipython",
    "version": 3
   },
   "file_extension": ".py",
   "mimetype": "text/x-python",
   "name": "python",
   "nbconvert_exporter": "python",
   "pygments_lexer": "ipython3",
   "version": "3.9.5"
  }
 },
 "nbformat": 4,
 "nbformat_minor": 4
}
