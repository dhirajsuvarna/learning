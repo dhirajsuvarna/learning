{
 "cells": [
  {
   "cell_type": "code",
   "execution_count": 1,
   "id": "aaa2fee2-73bd-44ad-a00e-4dd65936b8c2",
   "metadata": {},
   "outputs": [],
   "source": [
    "import spacy"
   ]
  },
  {
   "cell_type": "code",
   "execution_count": 2,
   "id": "3f39ba6a-072e-4e04-be03-fbe6eb5fa027",
   "metadata": {},
   "outputs": [],
   "source": [
    "nlp = spacy.load(\"en_core_web_sm\")"
   ]
  },
  {
   "cell_type": "code",
   "execution_count": 89,
   "id": "cf3ce9a3-281f-4309-8b61-2c2425088822",
   "metadata": {},
   "outputs": [],
   "source": [
    "doc = nlp(\"My name is Dhiraj.\")"
   ]
  },
  {
   "cell_type": "code",
   "execution_count": 90,
   "id": "97490f41-1b4c-4ca5-8e53-bb1ba4895c93",
   "metadata": {},
   "outputs": [
    {
     "name": "stdout",
     "output_type": "stream",
     "text": [
      "My name is Dhiraj.\n"
     ]
    }
   ],
   "source": [
    "print(doc) #looks like a string "
   ]
  },
  {
   "cell_type": "code",
   "execution_count": 91,
   "id": "345f67a5-a974-4731-aeae-f14e421b69ad",
   "metadata": {},
   "outputs": [
    {
     "data": {
      "text/plain": [
       "spacy.tokens.doc.Doc"
      ]
     },
     "execution_count": 91,
     "metadata": {},
     "output_type": "execute_result"
    }
   ],
   "source": [
    "type(doc) # but, its actually a special type of object called document object "
   ]
  },
  {
   "cell_type": "code",
   "execution_count": 92,
   "id": "178710c1-a15d-4ac6-b6e3-0f789a39f1ff",
   "metadata": {},
   "outputs": [
    {
     "data": {
      "text/plain": [
       "[My, name, is, Dhiraj, .]"
      ]
     },
     "execution_count": 92,
     "metadata": {},
     "output_type": "execute_result"
    }
   ],
   "source": [
    "[t for t in doc] # special in the sense we can loop over it"
   ]
  },
  {
   "cell_type": "code",
   "execution_count": 93,
   "id": "b7c76d6b-7922-410a-b6ef-958ec447ef8a",
   "metadata": {},
   "outputs": [],
   "source": [
    "t = doc[0]"
   ]
  },
  {
   "cell_type": "code",
   "execution_count": 94,
   "id": "67c55ddf-351b-4bb5-b587-4b53512d4ecc",
   "metadata": {},
   "outputs": [
    {
     "data": {
      "text/plain": [
       "My"
      ]
     },
     "execution_count": 94,
     "metadata": {},
     "output_type": "execute_result"
    }
   ],
   "source": [
    "t"
   ]
  },
  {
   "cell_type": "code",
   "execution_count": 95,
   "id": "116ac5cb-9e8d-4cbc-8e84-89b75125b38f",
   "metadata": {},
   "outputs": [
    {
     "data": {
      "text/plain": [
       "spacy.tokens.token.Token"
      ]
     },
     "execution_count": 95,
     "metadata": {},
     "output_type": "execute_result"
    }
   ],
   "source": [
    "type(t)"
   ]
  },
  {
   "cell_type": "markdown",
   "id": "21a3ed04-be91-4424-b2a5-8b5aa4b504f5",
   "metadata": {},
   "source": [
    "**document is a collection of token objects**"
   ]
  },
  {
   "cell_type": "code",
   "execution_count": 96,
   "id": "48de5e8d-4a49-4f51-bdbc-698bc00652e8",
   "metadata": {},
   "outputs": [
    {
     "name": "stdout",
     "output_type": "stream",
     "text": [
      "My: PRON\n",
      "name: NOUN\n",
      "is: AUX\n",
      "Dhiraj: PROPN\n",
      ".: PUNCT\n"
     ]
    }
   ],
   "source": [
    "# token object has lot of properties \n",
    "# pos = parts of speech \n",
    "for t in doc: \n",
    "    print(f\"{t}: {t.pos_}\")"
   ]
  },
  {
   "cell_type": "code",
   "execution_count": 97,
   "id": "369eb9c1-d6d7-42bd-9ae5-5877466849fb",
   "metadata": {},
   "outputs": [
    {
     "data": {
      "text/html": [
       "<span class=\"tex2jax_ignore\"><svg xmlns=\"http://www.w3.org/2000/svg\" xmlns:xlink=\"http://www.w3.org/1999/xlink\" xml:lang=\"en\" id=\"71e632fee5204306b28ca3f5f08670e6-0\" class=\"displacy\" width=\"750\" height=\"224.5\" direction=\"ltr\" style=\"max-width: none; height: 224.5px; color: #000000; background: #ffffff; font-family: Arial; direction: ltr\">\n",
       "<text class=\"displacy-token\" fill=\"currentColor\" text-anchor=\"middle\" y=\"134.5\">\n",
       "    <tspan class=\"displacy-word\" fill=\"currentColor\" x=\"50\">My</tspan>\n",
       "    <tspan class=\"displacy-tag\" dy=\"2em\" fill=\"currentColor\" x=\"50\">PRON</tspan>\n",
       "</text>\n",
       "\n",
       "<text class=\"displacy-token\" fill=\"currentColor\" text-anchor=\"middle\" y=\"134.5\">\n",
       "    <tspan class=\"displacy-word\" fill=\"currentColor\" x=\"225\">name</tspan>\n",
       "    <tspan class=\"displacy-tag\" dy=\"2em\" fill=\"currentColor\" x=\"225\">NOUN</tspan>\n",
       "</text>\n",
       "\n",
       "<text class=\"displacy-token\" fill=\"currentColor\" text-anchor=\"middle\" y=\"134.5\">\n",
       "    <tspan class=\"displacy-word\" fill=\"currentColor\" x=\"400\">is</tspan>\n",
       "    <tspan class=\"displacy-tag\" dy=\"2em\" fill=\"currentColor\" x=\"400\">AUX</tspan>\n",
       "</text>\n",
       "\n",
       "<text class=\"displacy-token\" fill=\"currentColor\" text-anchor=\"middle\" y=\"134.5\">\n",
       "    <tspan class=\"displacy-word\" fill=\"currentColor\" x=\"575\">Dhiraj.</tspan>\n",
       "    <tspan class=\"displacy-tag\" dy=\"2em\" fill=\"currentColor\" x=\"575\">PROPN</tspan>\n",
       "</text>\n",
       "\n",
       "<g class=\"displacy-arrow\">\n",
       "    <path class=\"displacy-arc\" id=\"arrow-71e632fee5204306b28ca3f5f08670e6-0-0\" stroke-width=\"2px\" d=\"M70,89.5 C70,2.0 225.0,2.0 225.0,89.5\" fill=\"none\" stroke=\"currentColor\"/>\n",
       "    <text dy=\"1.25em\" style=\"font-size: 0.8em; letter-spacing: 1px\">\n",
       "        <textPath xlink:href=\"#arrow-71e632fee5204306b28ca3f5f08670e6-0-0\" class=\"displacy-label\" startOffset=\"50%\" side=\"left\" fill=\"currentColor\" text-anchor=\"middle\">poss</textPath>\n",
       "    </text>\n",
       "    <path class=\"displacy-arrowhead\" d=\"M70,91.5 L62,79.5 78,79.5\" fill=\"currentColor\"/>\n",
       "</g>\n",
       "\n",
       "<g class=\"displacy-arrow\">\n",
       "    <path class=\"displacy-arc\" id=\"arrow-71e632fee5204306b28ca3f5f08670e6-0-1\" stroke-width=\"2px\" d=\"M245,89.5 C245,2.0 400.0,2.0 400.0,89.5\" fill=\"none\" stroke=\"currentColor\"/>\n",
       "    <text dy=\"1.25em\" style=\"font-size: 0.8em; letter-spacing: 1px\">\n",
       "        <textPath xlink:href=\"#arrow-71e632fee5204306b28ca3f5f08670e6-0-1\" class=\"displacy-label\" startOffset=\"50%\" side=\"left\" fill=\"currentColor\" text-anchor=\"middle\">nsubj</textPath>\n",
       "    </text>\n",
       "    <path class=\"displacy-arrowhead\" d=\"M245,91.5 L237,79.5 253,79.5\" fill=\"currentColor\"/>\n",
       "</g>\n",
       "\n",
       "<g class=\"displacy-arrow\">\n",
       "    <path class=\"displacy-arc\" id=\"arrow-71e632fee5204306b28ca3f5f08670e6-0-2\" stroke-width=\"2px\" d=\"M420,89.5 C420,2.0 575.0,2.0 575.0,89.5\" fill=\"none\" stroke=\"currentColor\"/>\n",
       "    <text dy=\"1.25em\" style=\"font-size: 0.8em; letter-spacing: 1px\">\n",
       "        <textPath xlink:href=\"#arrow-71e632fee5204306b28ca3f5f08670e6-0-2\" class=\"displacy-label\" startOffset=\"50%\" side=\"left\" fill=\"currentColor\" text-anchor=\"middle\">attr</textPath>\n",
       "    </text>\n",
       "    <path class=\"displacy-arrowhead\" d=\"M575.0,91.5 L583.0,79.5 567.0,79.5\" fill=\"currentColor\"/>\n",
       "</g>\n",
       "</svg></span>"
      ],
      "text/plain": [
       "<IPython.core.display.HTML object>"
      ]
     },
     "metadata": {},
     "output_type": "display_data"
    }
   ],
   "source": [
    "# visualize \n",
    "from spacy import displacy \n",
    "\n",
    "displacy.render(doc)"
   ]
  },
  {
   "cell_type": "code",
   "execution_count": 98,
   "id": "c6c1e7c1-7bb0-4bd3-9dd1-4a038478fd69",
   "metadata": {},
   "outputs": [
    {
     "data": {
      "text/plain": [
       "'possession modifier'"
      ]
     },
     "execution_count": 98,
     "metadata": {},
     "output_type": "execute_result"
    }
   ],
   "source": [
    "spacy.explain('poss')"
   ]
  },
  {
   "cell_type": "code",
   "execution_count": 100,
   "id": "a4892802-1fd4-407e-8ac0-2051c6455972",
   "metadata": {},
   "outputs": [
    {
     "data": {
      "text/html": [
       "<span class=\"tex2jax_ignore\"><div class=\"entities\" style=\"line-height: 2.5; direction: ltr\">My name is \n",
       "<mark class=\"entity\" style=\"background: #feca74; padding: 0.45em 0.6em; margin: 0 0.25em; line-height: 1; border-radius: 0.35em;\">\n",
       "    Dhiraj\n",
       "    <span style=\"font-size: 0.8em; font-weight: bold; line-height: 1; border-radius: 0.35em; vertical-align: middle; margin-left: 0.5rem\">GPE</span>\n",
       "</mark>\n",
       ".</div></span>"
      ],
      "text/plain": [
       "<IPython.core.display.HTML object>"
      ]
     },
     "metadata": {},
     "output_type": "display_data"
    }
   ],
   "source": [
    "displacy.render(doc, style='ent')"
   ]
  },
  {
   "cell_type": "code",
   "execution_count": 101,
   "id": "c2d21466-c762-401e-badd-451005f3e342",
   "metadata": {},
   "outputs": [
    {
     "data": {
      "text/plain": [
       "'Countries, cities, states'"
      ]
     },
     "execution_count": 101,
     "metadata": {},
     "output_type": "execute_result"
    }
   ],
   "source": [
    "spacy.explain('GPE')"
   ]
  },
  {
   "cell_type": "markdown",
   "id": "b9415702-2d63-4c51-bd4a-3e3ed9e21f0a",
   "metadata": {},
   "source": [
    "### Lets identify the programming language \n",
    "\n",
    "For starters, lets begin with detecting programing language **go**"
   ]
  },
  {
   "cell_type": "code",
   "execution_count": 19,
   "id": "87f891d3-d173-45cd-993f-08a4b0c22635",
   "metadata": {},
   "outputs": [],
   "source": [
    "def has_go_token(doc):\n",
    "    for token in doc:\n",
    "        if token.lower_ in [\"go\", \"golang\", \"objective-c\"]:\n",
    "            if token.pos_ != 'VERB':\n",
    "                return True\n",
    "    return False"
   ]
  },
  {
   "cell_type": "code",
   "execution_count": 22,
   "id": "4468eb43-c0c4-41b1-a9bd-2bc3ee37fd05",
   "metadata": {},
   "outputs": [],
   "source": [
    "doc = nlp(\"I love programming in objective-c\")"
   ]
  },
  {
   "cell_type": "code",
   "execution_count": 23,
   "id": "1ebe4975-85be-4e3d-b343-b14bea0a848b",
   "metadata": {},
   "outputs": [
    {
     "data": {
      "text/plain": [
       "False"
      ]
     },
     "execution_count": 23,
     "metadata": {},
     "output_type": "execute_result"
    }
   ],
   "source": [
    "has_go_token(doc)"
   ]
  },
  {
   "cell_type": "code",
   "execution_count": 24,
   "id": "f35412aa-58ad-4af4-acb0-cb8a762689cf",
   "metadata": {},
   "outputs": [],
   "source": [
    "pattern = [{'LOWER': 'objective'},\n",
    "           {'IS_PUNCT': True},\n",
    "           {'LOWER': 'c'}]"
   ]
  },
  {
   "cell_type": "code",
   "execution_count": 25,
   "id": "9f1abe7b-753b-4282-b700-6e3976246df3",
   "metadata": {},
   "outputs": [],
   "source": [
    "from spacy.matcher import Matcher"
   ]
  },
  {
   "cell_type": "code",
   "execution_count": 26,
   "id": "0e7cee70-c9d6-4dd8-9814-5ebb6ec517c5",
   "metadata": {},
   "outputs": [],
   "source": [
    "matcher = Matcher(nlp.vocab)"
   ]
  },
  {
   "cell_type": "code",
   "execution_count": 31,
   "id": "d2fea85d-bb7c-4882-81a9-ff72ba147365",
   "metadata": {},
   "outputs": [
    {
     "data": {
      "text/plain": [
       "list"
      ]
     },
     "execution_count": 31,
     "metadata": {},
     "output_type": "execute_result"
    }
   ],
   "source": []
  },
  {
   "cell_type": "code",
   "execution_count": 33,
   "id": "4fa48006-e69b-4d7d-8c04-f7091df6cf15",
   "metadata": {},
   "outputs": [],
   "source": [
    "matcher.add(\"OBJ_C\", [pattern]) # changed in 3.0\n"
   ]
  },
  {
   "cell_type": "code",
   "execution_count": 34,
   "id": "f3d85f95-7980-4842-8e1a-fcc9f85086de",
   "metadata": {},
   "outputs": [
    {
     "data": {
      "text/plain": [
       "[(14600203822370300727, 4, 7)]"
      ]
     },
     "execution_count": 34,
     "metadata": {},
     "output_type": "execute_result"
    }
   ],
   "source": [
    "matcher(doc)"
   ]
  },
  {
   "cell_type": "code",
   "execution_count": 35,
   "id": "53507e4b-b4d8-4eaf-b814-ea43133ffc97",
   "metadata": {},
   "outputs": [
    {
     "data": {
      "text/plain": [
       "objective-c"
      ]
     },
     "execution_count": 35,
     "metadata": {},
     "output_type": "execute_result"
    }
   ],
   "source": [
    "doc[4:7]"
   ]
  },
  {
   "cell_type": "code",
   "execution_count": 36,
   "id": "4c88c6fc-cf49-4b2c-9494-f286126f06cf",
   "metadata": {},
   "outputs": [],
   "source": [
    "# now we have the power to span over mulitple tokens and match them according to the rules "
   ]
  },
  {
   "cell_type": "code",
   "execution_count": 53,
   "id": "a33ff1ab-e808-4dbc-a608-371f29358ee0",
   "metadata": {},
   "outputs": [],
   "source": [
    "obj_c_pattern = [{'LOWER': 'objective'}, {'IS_PUNCT': True}, {'LOWER': 'c'}] # from above\n",
    "golang_pattern = [{'LOWER': {'IN' : ['go', 'golang']}, 'POS' : {'NOT_IN': ['VERB']}}]"
   ]
  },
  {
   "cell_type": "code",
   "execution_count": 54,
   "id": "f1742e61-e5d4-4d72-9960-76326f0f8696",
   "metadata": {},
   "outputs": [],
   "source": [
    "matcher = Matcher(nlp.vocab)"
   ]
  },
  {
   "cell_type": "code",
   "execution_count": 58,
   "id": "a13dcd7e-ac8e-4172-ad29-f35371ca98c2",
   "metadata": {},
   "outputs": [],
   "source": [
    "matcher.add(\"PATTERN\", [obj_c_pattern, golang_pattern])"
   ]
  },
  {
   "cell_type": "code",
   "execution_count": 65,
   "id": "2050a4fa-7364-44e1-9380-710182e163ab",
   "metadata": {},
   "outputs": [],
   "source": [
    "doc = nlp(\"I love coding in objective-c and golang\")"
   ]
  },
  {
   "cell_type": "code",
   "execution_count": 66,
   "id": "b18e3975-e8f1-4631-bb9f-9b91df3927b4",
   "metadata": {},
   "outputs": [
    {
     "name": "stdout",
     "output_type": "stream",
     "text": [
      "I PRON\n",
      "love VERB\n",
      "coding VERB\n",
      "in ADP\n",
      "objective ADJ\n",
      "- PUNCT\n",
      "c NOUN\n",
      "and CCONJ\n",
      "golang PROPN\n"
     ]
    }
   ],
   "source": [
    "for t in doc:\n",
    "    print(t, t.pos_)"
   ]
  },
  {
   "cell_type": "code",
   "execution_count": 67,
   "id": "2f6bc4c1-bf99-45df-a329-2380f29e57f4",
   "metadata": {},
   "outputs": [
    {
     "data": {
      "text/plain": [
       "[(11920309760829426267, 4, 7), (11920309760829426267, 8, 9)]"
      ]
     },
     "execution_count": 67,
     "metadata": {},
     "output_type": "execute_result"
    }
   ],
   "source": [
    "matches = matcher(doc)\n",
    "matches"
   ]
  },
  {
   "cell_type": "code",
   "execution_count": 69,
   "id": "4e4de569-f720-495e-9f25-fe10951d31c3",
   "metadata": {},
   "outputs": [
    {
     "name": "stdout",
     "output_type": "stream",
     "text": [
      "objective-c\n",
      "golang\n"
     ]
    }
   ],
   "source": [
    "for match_id, start, end in matches:\n",
    "    print(doc[start : end])"
   ]
  },
  {
   "cell_type": "markdown",
   "id": "dfbdd24c-4e79-44ec-bc58-23419a569309",
   "metadata": {},
   "source": [
    "## Cleaned up code "
   ]
  },
  {
   "cell_type": "code",
   "execution_count": 70,
   "id": "07a84dc8-1aa5-4ab2-9229-88c7f76ddd25",
   "metadata": {},
   "outputs": [],
   "source": [
    "from spacy.matcher import Matcher "
   ]
  },
  {
   "cell_type": "code",
   "execution_count": 83,
   "id": "3c331b37-b788-4739-9f23-c473828a5865",
   "metadata": {},
   "outputs": [],
   "source": [
    "obj_c_pattern = [{'LOWER': 'objective'}, {'IS_PUNCT': True}, {'LOWER': 'c'}] # from above\n",
    "golang_pattern1 = [{'LOWER': 'golang'}]\n",
    "golang_pattern2 = [{'LOWER': 'go', 'POS' : {'NOT_IN': ['VERB']}}]\n",
    "\n",
    "ruby_pattern = [{'LOWER': 'ruby'}]\n",
    "python_pattern = [{'LOWER': 'python'}]\n",
    "js_pattern = [{'LOWER': {'IN': ['js', 'javascript']}}]"
   ]
  },
  {
   "cell_type": "code",
   "execution_count": 84,
   "id": "ec9d6602-2021-4d28-b830-f0cb3e095ac5",
   "metadata": {},
   "outputs": [],
   "source": [
    "matcher = Matcher(nlp.vocab)\n",
    "matcher.add(\"PATTERNS\", [obj_c_pattern, golang_pattern1, golang_pattern2, python_pattern, \n",
    "                         js_pattern, ruby_pattern])"
   ]
  },
  {
   "cell_type": "code",
   "execution_count": 81,
   "id": "ff788f61-1ec9-4b41-870c-ddd6187b6414",
   "metadata": {},
   "outputs": [
    {
     "name": "stdout",
     "output_type": "stream",
     "text": [
      "golang\n",
      "objective-c\n"
     ]
    }
   ],
   "source": [
    "doc = nlp(\"I am an iOS dev who codes in both go/golang as well as objective-c\")\n",
    "matches = matcher(doc)\n",
    "for match_id, start, end in matches:\n",
    "    print(doc[start: end])"
   ]
  },
  {
   "cell_type": "code",
   "execution_count": 85,
   "id": "b4eb59a0-a869-4d17-9a49-564bd98db2e0",
   "metadata": {},
   "outputs": [
    {
     "name": "stdout",
     "output_type": "stream",
     "text": [
      "ruby\n",
      "python\n"
     ]
    }
   ],
   "source": [
    "doc = nlp(\"I have done some ruby, python, and go programming\")\n",
    "matches = matcher(doc)\n",
    "for match_id, start, end in matches:\n",
    "    print(doc[start: end])"
   ]
  },
  {
   "cell_type": "code",
   "execution_count": 86,
   "id": "9cde1e02-858d-42be-8909-a5f57ae71145",
   "metadata": {},
   "outputs": [
    {
     "data": {
      "text/plain": [
       "[(I, 'PRON'),\n",
       " (have, 'AUX'),\n",
       " (done, 'VERB'),\n",
       " (some, 'DET'),\n",
       " (ruby, 'NOUN'),\n",
       " (,, 'PUNCT'),\n",
       " (python, 'PROPN'),\n",
       " (,, 'PUNCT'),\n",
       " (and, 'CCONJ'),\n",
       " (go, 'VERB'),\n",
       " (programming, 'VERB')]"
      ]
     },
     "execution_count": 86,
     "metadata": {},
     "output_type": "execute_result"
    }
   ],
   "source": [
    "[(t, t.pos_) for t in doc]"
   ]
  },
  {
   "cell_type": "markdown",
   "id": "a8954fc8-cddf-4c4f-9412-cb1bf7fc0dfd",
   "metadata": {},
   "source": [
    "## Train an Entity detector model "
   ]
  },
  {
   "cell_type": "code",
   "execution_count": 102,
   "id": "72c1b676-fba6-47d9-88ae-83fc0f756a7b",
   "metadata": {},
   "outputs": [
    {
     "ename": "ModuleNotFoundError",
     "evalue": "No module named 'pandas'",
     "output_type": "error",
     "traceback": [
      "\u001b[1;31m---------------------------------------------------------------------------\u001b[0m",
      "\u001b[1;31mModuleNotFoundError\u001b[0m                       Traceback (most recent call last)",
      "\u001b[1;32mC:\\Users\\DHIRAJ~1.SUV\\AppData\\Local\\Temp/ipykernel_24248/1862277289.py\u001b[0m in \u001b[0;36m<module>\u001b[1;34m\u001b[0m\n\u001b[0;32m      1\u001b[0m \u001b[1;32mimport\u001b[0m \u001b[0mspacy\u001b[0m\u001b[1;33m\u001b[0m\u001b[1;33m\u001b[0m\u001b[0m\n\u001b[1;32m----> 2\u001b[1;33m \u001b[1;32mimport\u001b[0m \u001b[0mpandas\u001b[0m \u001b[1;32mas\u001b[0m \u001b[0mpd\u001b[0m\u001b[1;33m\u001b[0m\u001b[1;33m\u001b[0m\u001b[0m\n\u001b[0m\u001b[0;32m      3\u001b[0m \u001b[1;32mfrom\u001b[0m \u001b[0mspacy\u001b[0m \u001b[1;32mimport\u001b[0m \u001b[0mdisplacy\u001b[0m\u001b[1;33m\u001b[0m\u001b[1;33m\u001b[0m\u001b[0m\n\u001b[0;32m      4\u001b[0m \u001b[1;32mfrom\u001b[0m \u001b[0mspacy\u001b[0m\u001b[1;33m.\u001b[0m\u001b[0mmatcher\u001b[0m \u001b[1;32mimport\u001b[0m \u001b[0mMatcher\u001b[0m\u001b[1;33m\u001b[0m\u001b[1;33m\u001b[0m\u001b[0m\n",
      "\u001b[1;31mModuleNotFoundError\u001b[0m: No module named 'pandas'"
     ]
    }
   ],
   "source": [
    "import spacy\n",
    "import pandas as pd\n",
    "from spacy import displacy \n",
    "from spacy.matcher import Matcher "
   ]
  },
  {
   "cell_type": "code",
   "execution_count": 104,
   "id": "1a6e42fc-0c81-46e1-ae76-d88f9c397b88",
   "metadata": {},
   "outputs": [],
   "source": [
    "nlp = spacy.load('en_core_web_sm')"
   ]
  },
  {
   "cell_type": "code",
   "execution_count": 105,
   "id": "f638d298-adb9-4fe9-a5a1-92828f6bc89d",
   "metadata": {},
   "outputs": [],
   "source": [
    "doc = nlp(\"My name is Vincent and I was born on 23rd June 1987. \\\n",
    "           I work at Rasa from Haarlem. I just bought a guitar \\\n",
    "           cost $1000 on ebay and I will get is services here for 20 euro a year.\")"
   ]
  },
  {
   "cell_type": "code",
   "execution_count": 106,
   "id": "2b8fc24a-3666-4e95-8960-7e26820e4e77",
   "metadata": {},
   "outputs": [
    {
     "data": {
      "text/html": [
       "<span class=\"tex2jax_ignore\"><div class=\"entities\" style=\"line-height: 2.5; direction: ltr\">My name is \n",
       "<mark class=\"entity\" style=\"background: #aa9cfc; padding: 0.45em 0.6em; margin: 0 0.25em; line-height: 1; border-radius: 0.35em;\">\n",
       "    Vincent\n",
       "    <span style=\"font-size: 0.8em; font-weight: bold; line-height: 1; border-radius: 0.35em; vertical-align: middle; margin-left: 0.5rem\">PERSON</span>\n",
       "</mark>\n",
       " and I was born on \n",
       "<mark class=\"entity\" style=\"background: #bfe1d9; padding: 0.45em 0.6em; margin: 0 0.25em; line-height: 1; border-radius: 0.35em;\">\n",
       "    23rd June 1987\n",
       "    <span style=\"font-size: 0.8em; font-weight: bold; line-height: 1; border-radius: 0.35em; vertical-align: middle; margin-left: 0.5rem\">DATE</span>\n",
       "</mark>\n",
       ".            I work at Rasa from Haarlem. I just bought a guitar            cost $\n",
       "<mark class=\"entity\" style=\"background: #e4e7d2; padding: 0.45em 0.6em; margin: 0 0.25em; line-height: 1; border-radius: 0.35em;\">\n",
       "    1000\n",
       "    <span style=\"font-size: 0.8em; font-weight: bold; line-height: 1; border-radius: 0.35em; vertical-align: middle; margin-left: 0.5rem\">MONEY</span>\n",
       "</mark>\n",
       " on \n",
       "<mark class=\"entity\" style=\"background: #7aecec; padding: 0.45em 0.6em; margin: 0 0.25em; line-height: 1; border-radius: 0.35em;\">\n",
       "    ebay\n",
       "    <span style=\"font-size: 0.8em; font-weight: bold; line-height: 1; border-radius: 0.35em; vertical-align: middle; margin-left: 0.5rem\">ORG</span>\n",
       "</mark>\n",
       " and I will get is services here for \n",
       "<mark class=\"entity\" style=\"background: #e4e7d2; padding: 0.45em 0.6em; margin: 0 0.25em; line-height: 1; border-radius: 0.35em;\">\n",
       "    20 euro\n",
       "    <span style=\"font-size: 0.8em; font-weight: bold; line-height: 1; border-radius: 0.35em; vertical-align: middle; margin-left: 0.5rem\">QUANTITY</span>\n",
       "</mark>\n",
       " a year.</div></span>"
      ],
      "text/plain": [
       "<IPython.core.display.HTML object>"
      ]
     },
     "metadata": {},
     "output_type": "display_data"
    }
   ],
   "source": [
    "displacy.render(doc, style='ent')"
   ]
  },
  {
   "cell_type": "code",
   "execution_count": 107,
   "id": "c6c1e75e-fb97-4b4b-8194-f71f99011cb5",
   "metadata": {},
   "outputs": [
    {
     "data": {
      "text/plain": [
       "[(Vincent, spacy.tokens.span.Span),\n",
       " (23rd June 1987, spacy.tokens.span.Span),\n",
       " (1000, spacy.tokens.span.Span),\n",
       " (ebay, spacy.tokens.span.Span),\n",
       " (20 euro, spacy.tokens.span.Span)]"
      ]
     },
     "execution_count": 107,
     "metadata": {},
     "output_type": "execute_result"
    }
   ],
   "source": [
    "[(e, type(e)) for e in doc.ents]"
   ]
  },
  {
   "cell_type": "code",
   "execution_count": 110,
   "id": "024c9a3f-a5b0-4759-a09e-730324ff5230",
   "metadata": {},
   "outputs": [
    {
     "data": {
      "text/plain": [
       "[(Vincent, 'PERSON'),\n",
       " (23rd June 1987, 'DATE'),\n",
       " (1000, 'MONEY'),\n",
       " (ebay, 'ORG'),\n",
       " (20 euro, 'QUANTITY')]"
      ]
     },
     "execution_count": 110,
     "metadata": {},
     "output_type": "execute_result"
    }
   ],
   "source": [
    "[(e, e.label_) for e in doc.ents]"
   ]
  },
  {
   "cell_type": "code",
   "execution_count": 109,
   "id": "804a5729-b356-4cdf-8b9f-737c30688b14",
   "metadata": {},
   "outputs": [
    {
     "data": {
      "text/plain": [
       "'PERSON'"
      ]
     },
     "execution_count": 109,
     "metadata": {},
     "output_type": "execute_result"
    }
   ],
   "source": [
    "e.label_"
   ]
  },
  {
   "cell_type": "code",
   "execution_count": 113,
   "id": "974640b8-db00-4b5d-9644-7b222321be49",
   "metadata": {},
   "outputs": [
    {
     "data": {
      "text/plain": [
       "'People, including fictional'"
      ]
     },
     "execution_count": 113,
     "metadata": {},
     "output_type": "execute_result"
    }
   ],
   "source": [
    "spacy.explain('PERSON')"
   ]
  },
  {
   "cell_type": "code",
   "execution_count": 114,
   "id": "df510227-a98c-4e67-9990-a7477c116ec3",
   "metadata": {},
   "outputs": [
    {
     "data": {
      "text/plain": [
       "[('tok2vec', <spacy.pipeline.tok2vec.Tok2Vec at 0x280cc643040>),\n",
       " ('tagger', <spacy.pipeline.tagger.Tagger at 0x280cc648720>),\n",
       " ('parser', <spacy.pipeline.dep_parser.DependencyParser at 0x280cc6403a0>),\n",
       " ('attribute_ruler',\n",
       "  <spacy.pipeline.attributeruler.AttributeRuler at 0x280cc540200>),\n",
       " ('lemmatizer', <spacy.lang.en.lemmatizer.EnglishLemmatizer at 0x280cc4c0c00>),\n",
       " ('ner', <spacy.pipeline.ner.EntityRecognizer at 0x280cc5e9dc0>)]"
      ]
     },
     "execution_count": 114,
     "metadata": {},
     "output_type": "execute_result"
    }
   ],
   "source": [
    "nlp.pipeline"
   ]
  },
  {
   "cell_type": "code",
   "execution_count": null,
   "id": "d7f5c1ad-f939-430e-9c2f-77c5ee8afdfc",
   "metadata": {},
   "outputs": [],
   "source": []
  }
 ],
 "metadata": {
  "kernelspec": {
   "display_name": "Python [conda env:nlpenv]",
   "language": "python",
   "name": "conda-env-nlpenv-py"
  },
  "language_info": {
   "codemirror_mode": {
    "name": "ipython",
    "version": 3
   },
   "file_extension": ".py",
   "mimetype": "text/x-python",
   "name": "python",
   "nbconvert_exporter": "python",
   "pygments_lexer": "ipython3",
   "version": "3.8.11"
  }
 },
 "nbformat": 4,
 "nbformat_minor": 5
}
