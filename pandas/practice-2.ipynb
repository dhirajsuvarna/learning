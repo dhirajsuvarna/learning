{
 "cells": [
  {
   "cell_type": "markdown",
   "id": "0641e7ad-7cf8-4fc1-98c4-2ca20e822c3a",
   "metadata": {},
   "source": [
    "# Practice-2\n",
    "\n",
    "https://github.com/ajcr/100-pandas-puzzles"
   ]
  },
  {
   "cell_type": "code",
   "execution_count": null,
   "id": "d71f6815-c544-45bb-bb8a-918a931b5fa7",
   "metadata": {},
   "outputs": [],
   "source": []
  }
 ],
 "metadata": {
  "kernelspec": {
   "display_name": "learnenv",
   "language": "python",
   "name": "learnenv"
  },
  "language_info": {
   "codemirror_mode": {
    "name": "ipython",
    "version": 3
   },
   "file_extension": ".py",
   "mimetype": "text/x-python",
   "name": "python",
   "nbconvert_exporter": "python",
   "pygments_lexer": "ipython3",
   "version": "3.9.5"
  }
 },
 "nbformat": 4,
 "nbformat_minor": 5
}
